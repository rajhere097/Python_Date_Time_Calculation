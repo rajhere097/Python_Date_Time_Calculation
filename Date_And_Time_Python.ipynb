{
 "cells": [
  {
   "cell_type": "markdown",
   "id": "2ffd4bac-1eee-478d-b2af-955db4e1abdb",
   "metadata": {},
   "source": [
    "Notes on Date & Time in Python & Pandas\n",
    "1. Importance in Data Science\n",
    "\n",
    "Date & time handling is essential for time-series analysis, trend detection, forecasting, and seasonality analysis.\n",
    "\n",
    "Typical tasks: converting strings → datetime, extracting components, calculating differences, and formatting for reporting.\n",
    "\n",
    "2. Key Operations\n",
    "\n",
    "Conversion\n",
    "\n",
    "datetime.strptime() → Convert string → Python datetime/date.\n",
    "\n",
    "pd.to_datetime() → Convert Series → pandas datetime (datetime64[ns]).\n",
    "\n",
    "Extracting Parts\n",
    "\n",
    "Python: .year, .month, .day, .strftime(\"%A\"), .strftime(\"%B\").\n",
    "\n",
    "Pandas: .dt.year, .dt.month_name(), .dt.day_name().\n",
    "\n",
    "Current Date & Time\n",
    "\n",
    "datetime.date.today() → Current date.\n",
    "\n",
    "datetime.datetime.now() → Current date & time.\n",
    "\n",
    "Date Arithmetic\n",
    "\n",
    "timedelta / pd.Timedelta → Add/subtract days, weeks, hours.\n",
    "\n",
    "Vectorized in pandas for whole columns.\n",
    "\n",
    "Date Difference\n",
    "\n",
    "Subtraction gives a timedelta.\n",
    "\n",
    "Use .days or .total_seconds() for meaningful values.\n",
    "\n",
    "Formatting\n",
    "\n",
    "strftime() → Custom string formats (%Y-%m-%d, %d-%b-%Y, %I:%M %p).\n",
    "\n",
    "Pandas: .dt.strftime() for Series formatting."
   ]
  },
  {
   "cell_type": "markdown",
   "id": "4e6fec5a-2eb3-40ab-9ce4-c03f254c78dd",
   "metadata": {},
   "source": [
    "Summary\n",
    "\n",
    "Convert strings → datetime (strptime, pd.to_datetime).\n",
    "\n",
    "Extract year, month, day, names for grouping/analysis.\n",
    "\n",
    "Use timedelta for shifting dates and calculating durations.\n",
    "\n",
    "Format with strftime for clean reporting.\n",
    "\n",
    "Pandas .dt accessor is essential for working with datetime columns at scale."
   ]
  },
  {
   "cell_type": "markdown",
   "id": "e1e92bcf-1450-4817-be44-d0f699a241fa",
   "metadata": {},
   "source": [
    "Common strftime Codes\n",
    "\n",
    "Year\n",
    "\n",
    "%Y → 2025 (full year)\n",
    "\n",
    "%y → 25 (2-digit year)\n",
    "\n",
    "Month\n",
    "\n",
    "%m → 09 (month number)\n",
    "\n",
    "%B → September (full name)\n",
    "\n",
    "%b → Sep (short name)\n",
    "\n",
    "Day\n",
    "\n",
    "%d → 15 (day number)\n",
    "\n",
    "%A → Monday (full name)\n",
    "\n",
    "%a → Mon (short name)\n",
    "\n",
    "Time\n",
    "\n",
    "%H → Hour (00–23)\n",
    "\n",
    "%I → Hour (01–12)\n",
    "\n",
    "%M → Minute\n",
    "\n",
    "%S → Second\n",
    "\n",
    "%p → AM/PM"
   ]
  },
  {
   "cell_type": "code",
   "execution_count": 2,
   "id": "c44c6264-9a3f-4a7b-a9cb-a23f4f77393c",
   "metadata": {},
   "outputs": [
    {
     "data": {
      "text/plain": [
       "str"
      ]
     },
     "execution_count": 2,
     "metadata": {},
     "output_type": "execute_result"
    }
   ],
   "source": [
    "date_data = '2014-11-1'\n",
    "type(date_data)"
   ]
  },
  {
   "cell_type": "code",
   "execution_count": 3,
   "id": "317782ae-784f-468f-9ce4-01f03e8622ea",
   "metadata": {},
   "outputs": [
    {
     "data": {
      "text/plain": [
       "datetime.date"
      ]
     },
     "execution_count": 3,
     "metadata": {},
     "output_type": "execute_result"
    }
   ],
   "source": [
    "# Converting str to datetime.date using strptime\n",
    "import datetime\n",
    "\n",
    "converted_time = datetime.datetime.strptime(date_data, '%Y-%m-%d').date()\n",
    "type(converted_time)"
   ]
  },
  {
   "cell_type": "code",
   "execution_count": 4,
   "id": "18a29ec4-bcc9-4ac4-b934-b7947416491d",
   "metadata": {},
   "outputs": [
    {
     "data": {
      "text/plain": [
       "2014"
      ]
     },
     "execution_count": 4,
     "metadata": {},
     "output_type": "execute_result"
    }
   ],
   "source": [
    "# Extracting year\n",
    "converted_time.year"
   ]
  },
  {
   "cell_type": "code",
   "execution_count": 5,
   "id": "d0aa8889-92bd-4f06-b83d-d1f2b78db9bd",
   "metadata": {},
   "outputs": [
    {
     "data": {
      "text/plain": [
       "11"
      ]
     },
     "execution_count": 5,
     "metadata": {},
     "output_type": "execute_result"
    }
   ],
   "source": [
    "# Extracting month\n",
    "converted_time.month\n",
    "\n"
   ]
  },
  {
   "cell_type": "code",
   "execution_count": 7,
   "id": "cac745aa-8359-4067-9dc6-d7e58f5cfb22",
   "metadata": {},
   "outputs": [
    {
     "data": {
      "text/plain": [
       "'Saturday'"
      ]
     },
     "execution_count": 7,
     "metadata": {},
     "output_type": "execute_result"
    }
   ],
   "source": [
    "#Dayname\n",
    "converted_time.strftime('%A')"
   ]
  },
  {
   "cell_type": "code",
   "execution_count": 9,
   "id": "f4a7bb43-a9b7-4edc-b449-987bed1a92f4",
   "metadata": {},
   "outputs": [
    {
     "data": {
      "text/plain": [
       "'Nov'"
      ]
     },
     "execution_count": 9,
     "metadata": {},
     "output_type": "execute_result"
    }
   ],
   "source": [
    "#Month name\n",
    "converted_time.strftime('%b')"
   ]
  },
  {
   "cell_type": "code",
   "execution_count": 12,
   "id": "3e45d10f-2dd2-4788-a33b-06b60f6b463d",
   "metadata": {},
   "outputs": [
    {
     "data": {
      "text/plain": [
       "datetime.datetime(2025, 9, 15, 19, 1, 10, 260958)"
      ]
     },
     "execution_count": 12,
     "metadata": {},
     "output_type": "execute_result"
    }
   ],
   "source": [
    "# Todays dateandtime\n",
    "\n",
    "datetime.datetime.now()\n",
    "\n"
   ]
  },
  {
   "cell_type": "code",
   "execution_count": 13,
   "id": "fc822693-3ea6-4772-9616-ef7a5662d4b9",
   "metadata": {},
   "outputs": [
    {
     "data": {
      "text/plain": [
       "datetime.date(2025, 9, 15)"
      ]
     },
     "execution_count": 13,
     "metadata": {},
     "output_type": "execute_result"
    }
   ],
   "source": [
    "# Todays date\n",
    "\n",
    "datetime.date.today()"
   ]
  },
  {
   "cell_type": "code",
   "execution_count": 14,
   "id": "ff7128ad-5b5f-4408-9bfd-e0c8b9cee1ec",
   "metadata": {},
   "outputs": [
    {
     "name": "stdout",
     "output_type": "stream",
     "text": [
      "2025-12-14\n"
     ]
    }
   ],
   "source": [
    "# Edate # add 3 months from today\n",
    "\n",
    "today = datetime.date.today()\n",
    "add_3Months = today + datetime.timedelta(days=90)\n",
    "print(add_3Months)"
   ]
  },
  {
   "cell_type": "code",
   "execution_count": 17,
   "id": "35bd8fc7-9ac0-4374-aa61-61e47da3bd90",
   "metadata": {},
   "outputs": [
    {
     "name": "stdout",
     "output_type": "stream",
     "text": [
      "27 years. 27 months and 18 days\n"
     ]
    }
   ],
   "source": [
    "## Datediff calculation\n",
    "My_Birth_Date = datetime.date(1997,11,8)\n",
    "today = datetime.date.today()\n",
    "datediff = (today - My_Birth_Date).days\n",
    "year = datediff // 365\n",
    "month = (datediff // 365) % 30\n",
    "days = (datediff % 365) % 30\n",
    "\n",
    "print(f'{year} years. {month} months and {days} days')"
   ]
  },
  {
   "cell_type": "code",
   "execution_count": 20,
   "id": "0dee9e9a-5559-443b-bb1d-a3f10a0482f0",
   "metadata": {},
   "outputs": [
    {
     "name": "stdout",
     "output_type": "stream",
     "text": [
      "<class 'pandas.core.frame.DataFrame'>\n",
      "RangeIndex: 20 entries, 0 to 19\n",
      "Data columns (total 5 columns):\n",
      " #   Column    Non-Null Count  Dtype \n",
      "---  ------    --------------  ----- \n",
      " 0   Product   20 non-null     object\n",
      " 1   Region    20 non-null     object\n",
      " 2   Sales     20 non-null     int64 \n",
      " 3   Quantity  20 non-null     int64 \n",
      " 4   Date      20 non-null     object\n",
      "dtypes: int64(2), object(3)\n",
      "memory usage: 932.0+ bytes\n"
     ]
    }
   ],
   "source": [
    "import pandas as pd\n",
    "sales_data = {\n",
    "    'Product': ['Laptop', 'Laptop', 'Laptop', 'Mobile', 'Mobile', 'Mobile',\n",
    "                'Tablet', 'Tablet', 'Tablet', 'Headphones', 'Headphones', 'Headphones',\n",
    "                'Camera', 'Camera', 'Camera', 'Printer', 'Printer', 'Printer',\n",
    "                'Monitor', 'Monitor'],\n",
    "    'Region': ['North', 'South', 'West', 'North', 'South', 'West',\n",
    "               'North', 'South', 'West', 'North', 'South', 'West',\n",
    "               'North', 'South', 'West', 'North', 'South', 'West',\n",
    "               'North', 'South'],\n",
    "    'Sales': [120000, 95000, 88000, 150000, 132000, 128000,\n",
    "              67000, 72000, 65000, 40000, 37000, 35000,\n",
    "              78000, 82000, 79000, 56000, 48000, 50000,\n",
    "              92000, 87000],\n",
    "    'Quantity': [120, 95, 88, 300, 280, 275,\n",
    "                 150, 160, 140, 200, 190, 185,\n",
    "                 90, 100, 95, 70, 65, 68,\n",
    "                 110, 105],\n",
    "    'Date': ['2024-01-15', '2024-01-15', '2024-01-15', '2024-02-10', '2024-02-10', '2024-02-10',\n",
    "             '2024-03-05', '2024-03-05', '2024-03-05', '2024-04-20', '2024-04-20', '2024-04-20',\n",
    "             '2024-05-12', '2024-05-12', '2024-05-12', '2024-06-08', '2024-06-08', '2024-06-08',\n",
    "             '2024-07-25', '2024-07-25']\n",
    "}\n",
    "\n",
    "df = pd.DataFrame(sales_data)\n",
    "df.info()"
   ]
  },
  {
   "cell_type": "code",
   "execution_count": 26,
   "id": "88634614-95ed-488f-9bf6-5f33f391b609",
   "metadata": {},
   "outputs": [
    {
     "data": {
      "text/plain": [
       "True"
      ]
     },
     "execution_count": 26,
     "metadata": {},
     "output_type": "execute_result"
    }
   ],
   "source": [
    "# Pandas convertion to date\n",
    "df['Date'] = pd.to_datetime(df['Date'])\n",
    "df['Date'].dtype == 'datetime64[ns]'"
   ]
  },
  {
   "cell_type": "code",
   "execution_count": 24,
   "id": "270c38e4-6b30-4937-af95-62c9466dad06",
   "metadata": {},
   "outputs": [
    {
     "name": "stdout",
     "output_type": "stream",
     "text": [
      "<class 'pandas.core.series.Series'>\n",
      "RangeIndex: 20 entries, 0 to 19\n",
      "Series name: Date\n",
      "Non-Null Count  Dtype         \n",
      "--------------  -----         \n",
      "20 non-null     datetime64[ns]\n",
      "dtypes: datetime64[ns](1)\n",
      "memory usage: 292.0 bytes\n"
     ]
    }
   ],
   "source": [
    "df['Date'].info()"
   ]
  },
  {
   "cell_type": "code",
   "execution_count": 28,
   "id": "a88ede04-f846-4430-a945-c142dfbe3706",
   "metadata": {},
   "outputs": [
    {
     "data": {
      "text/plain": [
       "0    2024-01-15\n",
       "1    2024-01-15\n",
       "2    2024-01-15\n",
       "3    2024-02-10\n",
       "4    2024-02-10\n",
       "5    2024-02-10\n",
       "6    2024-03-05\n",
       "7    2024-03-05\n",
       "8    2024-03-05\n",
       "9    2024-04-20\n",
       "10   2024-04-20\n",
       "11   2024-04-20\n",
       "12   2024-05-12\n",
       "13   2024-05-12\n",
       "14   2024-05-12\n",
       "15   2024-06-08\n",
       "16   2024-06-08\n",
       "17   2024-06-08\n",
       "18   2024-07-25\n",
       "19   2024-07-25\n",
       "Name: Date, dtype: datetime64[ns]"
      ]
     },
     "execution_count": 28,
     "metadata": {},
     "output_type": "execute_result"
    }
   ],
   "source": [
    "df['Date']"
   ]
  },
  {
   "cell_type": "code",
   "execution_count": 29,
   "id": "426c8eba-0ca0-4db2-8b83-42ca8291a3f8",
   "metadata": {},
   "outputs": [
    {
     "data": {
      "text/plain": [
       "0     2024\n",
       "1     2024\n",
       "2     2024\n",
       "3     2024\n",
       "4     2024\n",
       "5     2024\n",
       "6     2024\n",
       "7     2024\n",
       "8     2024\n",
       "9     2024\n",
       "10    2024\n",
       "11    2024\n",
       "12    2024\n",
       "13    2024\n",
       "14    2024\n",
       "15    2024\n",
       "16    2024\n",
       "17    2024\n",
       "18    2024\n",
       "19    2024\n",
       "Name: Date, dtype: int32"
      ]
     },
     "execution_count": 29,
     "metadata": {},
     "output_type": "execute_result"
    }
   ],
   "source": [
    "## Extracting year\n",
    "\n",
    "df['Date'].dt.year"
   ]
  },
  {
   "cell_type": "code",
   "execution_count": 31,
   "id": "ebed407e-7700-45a4-9e44-a368c655d8fe",
   "metadata": {},
   "outputs": [
    {
     "data": {
      "text/plain": [
       "0      January\n",
       "1      January\n",
       "2      January\n",
       "3     February\n",
       "4     February\n",
       "5     February\n",
       "6        March\n",
       "7        March\n",
       "8        March\n",
       "9        April\n",
       "10       April\n",
       "11       April\n",
       "12         May\n",
       "13         May\n",
       "14         May\n",
       "15        June\n",
       "16        June\n",
       "17        June\n",
       "18        July\n",
       "19        July\n",
       "Name: Date, dtype: object"
      ]
     },
     "execution_count": 31,
     "metadata": {},
     "output_type": "execute_result"
    }
   ],
   "source": [
    "## Month name\n",
    "\n",
    "df['Date'].dt.month_name()"
   ]
  },
  {
   "cell_type": "code",
   "execution_count": 32,
   "id": "e4fe0b2b-f53a-41e1-afa3-7422b4049217",
   "metadata": {},
   "outputs": [
    {
     "data": {
      "text/plain": [
       "0       Monday\n",
       "1       Monday\n",
       "2       Monday\n",
       "3     Saturday\n",
       "4     Saturday\n",
       "5     Saturday\n",
       "6      Tuesday\n",
       "7      Tuesday\n",
       "8      Tuesday\n",
       "9     Saturday\n",
       "10    Saturday\n",
       "11    Saturday\n",
       "12      Sunday\n",
       "13      Sunday\n",
       "14      Sunday\n",
       "15    Saturday\n",
       "16    Saturday\n",
       "17    Saturday\n",
       "18    Thursday\n",
       "19    Thursday\n",
       "Name: Date, dtype: object"
      ]
     },
     "execution_count": 32,
     "metadata": {},
     "output_type": "execute_result"
    }
   ],
   "source": [
    "df['Date'].dt.day_name()"
   ]
  },
  {
   "cell_type": "code",
   "execution_count": 33,
   "id": "f1cab97d-b7e3-4f53-9e0d-90b0c718c7e6",
   "metadata": {},
   "outputs": [
    {
     "data": {
      "text/plain": [
       "0    2025-01-19\n",
       "1    2025-01-19\n",
       "2    2025-01-19\n",
       "3    2025-02-14\n",
       "4    2025-02-14\n",
       "5    2025-02-14\n",
       "6    2025-03-10\n",
       "7    2025-03-10\n",
       "8    2025-03-10\n",
       "9    2025-04-25\n",
       "10   2025-04-25\n",
       "11   2025-04-25\n",
       "12   2025-05-17\n",
       "13   2025-05-17\n",
       "14   2025-05-17\n",
       "15   2025-06-13\n",
       "16   2025-06-13\n",
       "17   2025-06-13\n",
       "18   2025-07-30\n",
       "19   2025-07-30\n",
       "Name: Date, dtype: datetime64[ns]"
      ]
     },
     "execution_count": 33,
     "metadata": {},
     "output_type": "execute_result"
    }
   ],
   "source": [
    "# one year later\n",
    "df['Date'] + pd.Timedelta(days=370)"
   ]
  },
  {
   "cell_type": "code",
   "execution_count": 34,
   "id": "71613899-ecc3-4a78-966a-f14e6f51d3fb",
   "metadata": {},
   "outputs": [
    {
     "data": {
      "text/plain": [
       "datetime.date(1996, 11, 3)"
      ]
     },
     "execution_count": 34,
     "metadata": {},
     "output_type": "execute_result"
    }
   ],
   "source": [
    "# Deduct one year from '1997-11-8'\n",
    "\n",
    "datetime.date(1997,11,8) - datetime.timedelta(days=370)"
   ]
  },
  {
   "cell_type": "code",
   "execution_count": 36,
   "id": "d1105550-b26f-473f-bb88-42745513b8cc",
   "metadata": {},
   "outputs": [
    {
     "data": {
      "text/plain": [
       "'2025-Sep-15'"
      ]
     },
     "execution_count": 36,
     "metadata": {},
     "output_type": "execute_result"
    }
   ],
   "source": [
    "## Date formatting \n",
    "\n",
    "today = datetime.date.today()\n",
    "today.strftime('%Y-%b-%d')"
   ]
  },
  {
   "cell_type": "code",
   "execution_count": 37,
   "id": "2b118455-b9e1-4f74-a66d-0146cfa0b060",
   "metadata": {},
   "outputs": [
    {
     "data": {
      "text/plain": [
       "'25-Sep-15'"
      ]
     },
     "execution_count": 37,
     "metadata": {},
     "output_type": "execute_result"
    }
   ],
   "source": [
    "today = datetime.date.today()\n",
    "today.strftime('%y-%b-%d')"
   ]
  },
  {
   "cell_type": "code",
   "execution_count": 38,
   "id": "8f569adc-5479-41ca-97ad-86ad8703e160",
   "metadata": {},
   "outputs": [
    {
     "data": {
      "text/plain": [
       "'25/Sep/15'"
      ]
     },
     "execution_count": 38,
     "metadata": {},
     "output_type": "execute_result"
    }
   ],
   "source": [
    "today = datetime.date.today()\n",
    "today.strftime('%y/%b/%d')"
   ]
  },
  {
   "cell_type": "code",
   "execution_count": 39,
   "id": "69cc0f92-034d-4d6e-9863-8e6117a5eafa",
   "metadata": {},
   "outputs": [
    {
     "data": {
      "text/plain": [
       "'25/Sep/Mon'"
      ]
     },
     "execution_count": 39,
     "metadata": {},
     "output_type": "execute_result"
    }
   ],
   "source": [
    "today = datetime.date.today()\n",
    "today.strftime('%y/%b/%a')"
   ]
  },
  {
   "cell_type": "markdown",
   "id": "47d43a15-a6ad-426a-a1ef-376961548c7f",
   "metadata": {},
   "source": [
    "Use .strftime() to format datetime into strings.\n",
    "\n",
    "Codes like %Y, %m, %d, %H, %M, %S, %A, %B give you full control over format."
   ]
  },
  {
   "cell_type": "code",
   "execution_count": 40,
   "id": "a0b8452c-f499-42ef-a898-d076341620d6",
   "metadata": {},
   "outputs": [
    {
     "data": {
      "text/plain": [
       "0    2024-01-15\n",
       "1    2024-01-15\n",
       "2    2024-01-15\n",
       "3    2024-02-10\n",
       "4    2024-02-10\n",
       "5    2024-02-10\n",
       "6    2024-03-05\n",
       "7    2024-03-05\n",
       "8    2024-03-05\n",
       "9    2024-04-20\n",
       "10   2024-04-20\n",
       "11   2024-04-20\n",
       "12   2024-05-12\n",
       "13   2024-05-12\n",
       "14   2024-05-12\n",
       "15   2024-06-08\n",
       "16   2024-06-08\n",
       "17   2024-06-08\n",
       "18   2024-07-25\n",
       "19   2024-07-25\n",
       "Name: Date, dtype: datetime64[ns]"
      ]
     },
     "execution_count": 40,
     "metadata": {},
     "output_type": "execute_result"
    }
   ],
   "source": [
    "df['Date']"
   ]
  },
  {
   "cell_type": "code",
   "execution_count": 42,
   "id": "5b81130e-00bc-457f-9786-fe0e505808a4",
   "metadata": {},
   "outputs": [
    {
     "data": {
      "text/plain": [
       "0     Jan\n",
       "1     Jan\n",
       "2     Jan\n",
       "3     Feb\n",
       "4     Feb\n",
       "5     Feb\n",
       "6     Mar\n",
       "7     Mar\n",
       "8     Mar\n",
       "9     Apr\n",
       "10    Apr\n",
       "11    Apr\n",
       "12    May\n",
       "13    May\n",
       "14    May\n",
       "15    Jun\n",
       "16    Jun\n",
       "17    Jun\n",
       "18    Jul\n",
       "19    Jul\n",
       "Name: Date, dtype: object"
      ]
     },
     "execution_count": 42,
     "metadata": {},
     "output_type": "execute_result"
    }
   ],
   "source": [
    "## Pandas date formatting\n",
    "\n",
    "df['Date'].dt.strftime('%b')"
   ]
  },
  {
   "cell_type": "code",
   "execution_count": 43,
   "id": "d328fdc6-dc45-4a76-bc3e-31bee0d2b13d",
   "metadata": {},
   "outputs": [
    {
     "data": {
      "text/plain": [
       "0     24:01:15\n",
       "1     24:01:15\n",
       "2     24:01:15\n",
       "3     24:02:10\n",
       "4     24:02:10\n",
       "5     24:02:10\n",
       "6     24:03:05\n",
       "7     24:03:05\n",
       "8     24:03:05\n",
       "9     24:04:20\n",
       "10    24:04:20\n",
       "11    24:04:20\n",
       "12    24:05:12\n",
       "13    24:05:12\n",
       "14    24:05:12\n",
       "15    24:06:08\n",
       "16    24:06:08\n",
       "17    24:06:08\n",
       "18    24:07:25\n",
       "19    24:07:25\n",
       "Name: Date, dtype: object"
      ]
     },
     "execution_count": 43,
     "metadata": {},
     "output_type": "execute_result"
    }
   ],
   "source": [
    "df['Date'].dt.strftime('%y:%m:%d')"
   ]
  },
  {
   "cell_type": "code",
   "execution_count": 45,
   "id": "6298dd2e-13f1-48e3-af36-8a57c5c032e0",
   "metadata": {},
   "outputs": [
    {
     "data": {
      "text/plain": [
       "0       Monday-Jan\n",
       "1       Monday-Jan\n",
       "2       Monday-Jan\n",
       "3     Saturday-Feb\n",
       "4     Saturday-Feb\n",
       "5     Saturday-Feb\n",
       "6      Tuesday-Mar\n",
       "7      Tuesday-Mar\n",
       "8      Tuesday-Mar\n",
       "9     Saturday-Apr\n",
       "10    Saturday-Apr\n",
       "11    Saturday-Apr\n",
       "12      Sunday-May\n",
       "13      Sunday-May\n",
       "14      Sunday-May\n",
       "15    Saturday-Jun\n",
       "16    Saturday-Jun\n",
       "17    Saturday-Jun\n",
       "18    Thursday-Jul\n",
       "19    Thursday-Jul\n",
       "Name: Date, dtype: object"
      ]
     },
     "execution_count": 45,
     "metadata": {},
     "output_type": "execute_result"
    }
   ],
   "source": [
    "df['Date'].dt.strftime('%A-%b')"
   ]
  },
  {
   "cell_type": "code",
   "execution_count": null,
   "id": "e4081aa8-1a0e-44ba-97d9-c9a272af2720",
   "metadata": {},
   "outputs": [],
   "source": []
  }
 ],
 "metadata": {
  "kernelspec": {
   "display_name": "Python [conda env:base] *",
   "language": "python",
   "name": "conda-base-py"
  },
  "language_info": {
   "codemirror_mode": {
    "name": "ipython",
    "version": 3
   },
   "file_extension": ".py",
   "mimetype": "text/x-python",
   "name": "python",
   "nbconvert_exporter": "python",
   "pygments_lexer": "ipython3",
   "version": "3.13.5"
  }
 },
 "nbformat": 4,
 "nbformat_minor": 5
}
